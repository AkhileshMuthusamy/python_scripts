{
  "cells": [
    {
      "cell_type": "markdown",
      "metadata": {
        "id": "7OofmPnTt6GU"
      },
      "source": [
        "# Email Signature Extractor\n",
        "\n",
        "Copyright (c) 2022 Akhilesh Muthusamy\n"
      ]
    },
    {
      "cell_type": "markdown",
      "metadata": {
        "id": "9bzA4-WRuM_E"
      },
      "source": [
        "### Installing Stanford NLP package for Name Entity Recognition"
      ]
    },
    {
      "cell_type": "code",
      "execution_count": 1,
      "metadata": {
        "colab": {
          "base_uri": "https://localhost:8080/"
        },
        "id": "GKoaez3Qpik1",
        "outputId": "92922f87-411b-4e77-e682-7b0bd9125cfd"
      },
      "outputs": [
        {
          "name": "stdout",
          "output_type": "stream",
          "text": [
            "Collecting stanza\n",
            "  Downloading stanza-1.3.0-py3-none-any.whl (432 kB)\n",
            "\u001b[?25l\r\u001b[K     |▊                               | 10 kB 18.3 MB/s eta 0:00:01\r\u001b[K     |█▌                              | 20 kB 23.6 MB/s eta 0:00:01\r\u001b[K     |██▎                             | 30 kB 25.6 MB/s eta 0:00:01\r\u001b[K     |███                             | 40 kB 14.6 MB/s eta 0:00:01\r\u001b[K     |███▉                            | 51 kB 12.8 MB/s eta 0:00:01\r\u001b[K     |████▌                           | 61 kB 14.8 MB/s eta 0:00:01\r\u001b[K     |█████▎                          | 71 kB 14.1 MB/s eta 0:00:01\r\u001b[K     |██████                          | 81 kB 13.3 MB/s eta 0:00:01\r\u001b[K     |██████▉                         | 92 kB 12.1 MB/s eta 0:00:01\r\u001b[K     |███████▋                        | 102 kB 12.9 MB/s eta 0:00:01\r\u001b[K     |████████▍                       | 112 kB 12.9 MB/s eta 0:00:01\r\u001b[K     |█████████                       | 122 kB 12.9 MB/s eta 0:00:01\r\u001b[K     |█████████▉                      | 133 kB 12.9 MB/s eta 0:00:01\r\u001b[K     |██████████▋                     | 143 kB 12.9 MB/s eta 0:00:01\r\u001b[K     |███████████▍                    | 153 kB 12.9 MB/s eta 0:00:01\r\u001b[K     |████████████▏                   | 163 kB 12.9 MB/s eta 0:00:01\r\u001b[K     |█████████████                   | 174 kB 12.9 MB/s eta 0:00:01\r\u001b[K     |█████████████▋                  | 184 kB 12.9 MB/s eta 0:00:01\r\u001b[K     |██████████████▍                 | 194 kB 12.9 MB/s eta 0:00:01\r\u001b[K     |███████████████▏                | 204 kB 12.9 MB/s eta 0:00:01\r\u001b[K     |████████████████                | 215 kB 12.9 MB/s eta 0:00:01\r\u001b[K     |████████████████▊               | 225 kB 12.9 MB/s eta 0:00:01\r\u001b[K     |█████████████████▍              | 235 kB 12.9 MB/s eta 0:00:01\r\u001b[K     |██████████████████▏             | 245 kB 12.9 MB/s eta 0:00:01\r\u001b[K     |███████████████████             | 256 kB 12.9 MB/s eta 0:00:01\r\u001b[K     |███████████████████▊            | 266 kB 12.9 MB/s eta 0:00:01\r\u001b[K     |████████████████████▌           | 276 kB 12.9 MB/s eta 0:00:01\r\u001b[K     |█████████████████████▎          | 286 kB 12.9 MB/s eta 0:00:01\r\u001b[K     |██████████████████████          | 296 kB 12.9 MB/s eta 0:00:01\r\u001b[K     |██████████████████████▊         | 307 kB 12.9 MB/s eta 0:00:01\r\u001b[K     |███████████████████████▌        | 317 kB 12.9 MB/s eta 0:00:01\r\u001b[K     |████████████████████████▎       | 327 kB 12.9 MB/s eta 0:00:01\r\u001b[K     |█████████████████████████       | 337 kB 12.9 MB/s eta 0:00:01\r\u001b[K     |█████████████████████████▉      | 348 kB 12.9 MB/s eta 0:00:01\r\u001b[K     |██████████████████████████▌     | 358 kB 12.9 MB/s eta 0:00:01\r\u001b[K     |███████████████████████████▎    | 368 kB 12.9 MB/s eta 0:00:01\r\u001b[K     |████████████████████████████    | 378 kB 12.9 MB/s eta 0:00:01\r\u001b[K     |████████████████████████████▉   | 389 kB 12.9 MB/s eta 0:00:01\r\u001b[K     |█████████████████████████████▋  | 399 kB 12.9 MB/s eta 0:00:01\r\u001b[K     |██████████████████████████████▍ | 409 kB 12.9 MB/s eta 0:00:01\r\u001b[K     |███████████████████████████████ | 419 kB 12.9 MB/s eta 0:00:01\r\u001b[K     |███████████████████████████████▉| 430 kB 12.9 MB/s eta 0:00:01\r\u001b[K     |████████████████████████████████| 432 kB 12.9 MB/s \n",
            "\u001b[?25hRequirement already satisfied: protobuf in /usr/local/lib/python3.7/dist-packages (from stanza) (3.17.3)\n",
            "Collecting emoji\n",
            "  Downloading emoji-1.6.3.tar.gz (174 kB)\n",
            "\u001b[K     |████████████████████████████████| 174 kB 43.6 MB/s \n",
            "\u001b[?25hRequirement already satisfied: torch>=1.3.0 in /usr/local/lib/python3.7/dist-packages (from stanza) (1.10.0+cu111)\n",
            "Requirement already satisfied: numpy in /usr/local/lib/python3.7/dist-packages (from stanza) (1.21.5)\n",
            "Requirement already satisfied: tqdm in /usr/local/lib/python3.7/dist-packages (from stanza) (4.62.3)\n",
            "Requirement already satisfied: requests in /usr/local/lib/python3.7/dist-packages (from stanza) (2.23.0)\n",
            "Requirement already satisfied: six in /usr/local/lib/python3.7/dist-packages (from stanza) (1.15.0)\n",
            "Requirement already satisfied: typing-extensions in /usr/local/lib/python3.7/dist-packages (from torch>=1.3.0->stanza) (3.10.0.2)\n",
            "Requirement already satisfied: urllib3!=1.25.0,!=1.25.1,<1.26,>=1.21.1 in /usr/local/lib/python3.7/dist-packages (from requests->stanza) (1.24.3)\n",
            "Requirement already satisfied: chardet<4,>=3.0.2 in /usr/local/lib/python3.7/dist-packages (from requests->stanza) (3.0.4)\n",
            "Requirement already satisfied: certifi>=2017.4.17 in /usr/local/lib/python3.7/dist-packages (from requests->stanza) (2021.10.8)\n",
            "Requirement already satisfied: idna<3,>=2.5 in /usr/local/lib/python3.7/dist-packages (from requests->stanza) (2.10)\n",
            "Building wheels for collected packages: emoji\n",
            "  Building wheel for emoji (setup.py) ... \u001b[?25l\u001b[?25hdone\n",
            "  Created wheel for emoji: filename=emoji-1.6.3-py3-none-any.whl size=170298 sha256=dc1d420cd219c28a8fdc2c9496d537ce97c9625d977f898c622ac258e39d9288\n",
            "  Stored in directory: /root/.cache/pip/wheels/03/8b/d7/ad579fbef83c287215c0caab60fb0ae0f30c4d7ce5f580eade\n",
            "Successfully built emoji\n",
            "Installing collected packages: emoji, stanza\n",
            "Successfully installed emoji-1.6.3 stanza-1.3.0\n"
          ]
        }
      ],
      "source": [
        "%pip install stanza"
      ]
    },
    {
      "cell_type": "code",
      "execution_count": 2,
      "metadata": {
        "colab": {
          "base_uri": "https://localhost:8080/"
        },
        "id": "3A8slyQN9KOx",
        "outputId": "e7009e1d-8451-4221-daad-590510af18a8"
      },
      "outputs": [
        {
          "name": "stdout",
          "output_type": "stream",
          "text": [
            "Collecting find-job-titles\n",
            "  Downloading find_job_titles-0.7.0-py2.py3-none-any.whl (383 kB)\n",
            "\u001b[K     |████████████████████████████████| 383 kB 26.5 MB/s \n",
            "\u001b[?25hCollecting acora\n",
            "  Downloading acora-2.3-cp37-cp37m-manylinux1_x86_64.whl (167 kB)\n",
            "\u001b[K     |████████████████████████████████| 167 kB 59.7 MB/s \n",
            "\u001b[?25hCollecting pyahocorasick\n",
            "  Downloading pyahocorasick-1.4.4-cp37-cp37m-manylinux_2_17_x86_64.manylinux2014_x86_64.whl (106 kB)\n",
            "\u001b[K     |████████████████████████████████| 106 kB 63.7 MB/s \n",
            "\u001b[?25hInstalling collected packages: pyahocorasick, acora, find-job-titles\n",
            "Successfully installed acora-2.3 find-job-titles-0.7.0 pyahocorasick-1.4.4\n"
          ]
        }
      ],
      "source": [
        "%pip install find-job-titles"
      ]
    },
    {
      "cell_type": "code",
      "execution_count": 3,
      "metadata": {
        "colab": {
          "base_uri": "https://localhost:8080/",
          "height": 498,
          "referenced_widgets": [
            "35edaaeb62cd4a289a5c68b7d7bb43b5",
            "0970412bef30434d9fd9f8e64900064a",
            "2919189db0da445f973067dd9225de9b",
            "6553187a221643079052967cdaa2b3d1",
            "ea5ff80623714946b43b0ef9254b1c93",
            "1a39801610b142f59874d7f3803709df",
            "125e89558766457c90a72ffe1f530005",
            "934339865c2b4f3c85b1a3c5263f4ac3",
            "7eaa9d31ce2e455c93a9c284af54f19e",
            "26ea118c408f48fe9dcb546c7505049a",
            "1f4d8e3e92ae48069b68a7966e104164",
            "9189c5d65b874925a2c2f0d4422c2b12",
            "150824421d8645c3bc8fb05fd943cd61",
            "751222b61c44436abe82e9f0f699f4f6",
            "ddd11544f173487abcda1e0ca338ad2d",
            "436c5c00d7094496949616ab17932336",
            "1298e858dc4f4a28b051db27b3cb6593",
            "eebed07d32254844ab4f996d6b5e38e2",
            "8ca8dc4d339a42c8842347a0bec14392",
            "4c2b9634181a4b06baf2d48303fac0bb",
            "053fd82739054db2a7bd5c1be5df6042",
            "b025f76532a343db965088b06e6d6bc9"
          ]
        },
        "id": "PWlSSC32qSBl",
        "outputId": "0f32f204-5c97-40ff-9573-a8873e739e6e"
      },
      "outputs": [
        {
          "data": {
            "application/vnd.jupyter.widget-view+json": {
              "model_id": "35edaaeb62cd4a289a5c68b7d7bb43b5",
              "version_major": 2,
              "version_minor": 0
            },
            "text/plain": [
              "Downloading https://raw.githubusercontent.com/stanfordnlp/stanza-resources/main/resources_1.3.0.json:   0%|   …"
            ]
          },
          "metadata": {},
          "output_type": "display_data"
        },
        {
          "name": "stderr",
          "output_type": "stream",
          "text": [
            "2022-02-21 02:47:54 INFO: Downloading default packages for language: en (English)...\n"
          ]
        },
        {
          "data": {
            "application/vnd.jupyter.widget-view+json": {
              "model_id": "9189c5d65b874925a2c2f0d4422c2b12",
              "version_major": 2,
              "version_minor": 0
            },
            "text/plain": [
              "Downloading https://huggingface.co/stanfordnlp/stanza-en/resolve/v1.3.0/models/default.zip:   0%|          | 0…"
            ]
          },
          "metadata": {},
          "output_type": "display_data"
        },
        {
          "name": "stderr",
          "output_type": "stream",
          "text": [
            "2022-02-21 02:48:06 INFO: Finished downloading models and saved to /root/stanza_resources.\n",
            "2022-02-21 02:48:06 INFO: Loading these models for language: en (English):\n",
            "============================\n",
            "| Processor    | Package   |\n",
            "----------------------------\n",
            "| tokenize     | combined  |\n",
            "| pos          | combined  |\n",
            "| lemma        | combined  |\n",
            "| depparse     | combined  |\n",
            "| sentiment    | sstplus   |\n",
            "| constituency | wsj       |\n",
            "| ner          | ontonotes |\n",
            "============================\n",
            "\n",
            "2022-02-21 02:48:06 INFO: Use device: cpu\n",
            "2022-02-21 02:48:06 INFO: Loading: tokenize\n",
            "2022-02-21 02:48:06 INFO: Loading: pos\n",
            "2022-02-21 02:48:07 INFO: Loading: lemma\n",
            "2022-02-21 02:48:07 INFO: Loading: depparse\n",
            "2022-02-21 02:48:07 INFO: Loading: sentiment\n",
            "2022-02-21 02:48:08 INFO: Loading: constituency\n",
            "2022-02-21 02:48:08 INFO: Loading: ner\n",
            "2022-02-21 02:48:09 INFO: Done loading processors!\n"
          ]
        }
      ],
      "source": [
        "import re\n",
        "import stanza\n",
        "stanza.download('en')\n",
        "nlp = stanza.Pipeline('en')"
      ]
    },
    {
      "cell_type": "code",
      "execution_count": 4,
      "metadata": {
        "id": "cwxmo1rttyOs"
      },
      "outputs": [],
      "source": [
        "def extract_website(text):\n",
        "  pattern = r\"(?:https?:\\/\\/)?([a-zA-Z][a-zA-Z0-9._\\-]+.[a-zA-Z0-9]+(\\.[a-zA-Z0-9._\\-]{2,3})+)\"\n",
        "  result = re.findall(pattern, text)\n",
        "  return result if result else None\n",
        "\n",
        "\n",
        "# Reference: https://stackoverflow.com/questions/6038061/regular-expression-to-find-urls-within-a-string"
      ]
    },
    {
      "cell_type": "code",
      "execution_count": 5,
      "metadata": {
        "id": "Pd9CdohkuwWt"
      },
      "outputs": [],
      "source": [
        "def extract_email(text):\n",
        "  pattern = r\"([a-zA-Z][a-zA-Z0-9._\\-]+@[a-zA-Z0-9]+(\\.[a-zA-Z0-9._\\-]{2,3})+)\"\n",
        "  result = re.findall(pattern, text)\n",
        "  return result if result else None"
      ]
    },
    {
      "cell_type": "code",
      "execution_count": 6,
      "metadata": {
        "id": "PbVi4Et4rQHj"
      },
      "outputs": [],
      "source": [
        "def extract_phone_no(text):\n",
        "  if any(str.isdigit(c) for c in text):\n",
        "    pattern = r\"[+0-9. ()\\-]{7,}\"\n",
        "    text =re.sub(' {3,}', '|', text)\n",
        "    result = re.findall(pattern, text)\n",
        "    return result if result else None\n",
        "  else:\n",
        "    return None"
      ]
    },
    {
      "cell_type": "markdown",
      "metadata": {
        "id": "VG6pqyRJlaEN"
      },
      "source": [
        "Reference: https://pypi.org/project/find-job-titles/"
      ]
    },
    {
      "cell_type": "code",
      "execution_count": 7,
      "metadata": {
        "id": "au3POZFT9LQo"
      },
      "outputs": [],
      "source": [
        "from find_job_titles import Finder\n",
        "\n",
        "def extract_job_title(text):\n",
        "  finder = Finder()\n",
        "  try:\n",
        "      job_title = finder.findall(text)\n",
        "      return job_title\n",
        "  except:\n",
        "      return []"
      ]
    },
    {
      "cell_type": "markdown",
      "metadata": {
        "id": "g3Q2HxSqlVVV"
      },
      "source": [
        "Reference: https://stanfordnlp.github.io/stanza/installation_usage.html"
      ]
    },
    {
      "cell_type": "code",
      "execution_count": 8,
      "metadata": {
        "id": "DNrJbCGzESKA"
      },
      "outputs": [],
      "source": [
        "def extract_address(text):\n",
        "  doc = nlp(text) \n",
        "  hasAddress = False\n",
        "  for ent in doc.entities:\n",
        "    if ent.type == \"GPE\":\n",
        "      hasAddress = True\n",
        "\n",
        "  return text if hasAddress else None "
      ]
    },
    {
      "cell_type": "code",
      "execution_count": 9,
      "metadata": {
        "id": "fUtAv55UJxqL"
      },
      "outputs": [],
      "source": [
        "def extract_person(text):\n",
        "  doc = nlp(text) \n",
        "  name = None\n",
        "  for ent in doc.entities:\n",
        "    if ent.type == \"PERSON\":\n",
        "      name = ent.text\n",
        "\n",
        "  return name"
      ]
    },
    {
      "cell_type": "code",
      "execution_count": 10,
      "metadata": {
        "id": "LwE4nxLnQIsg"
      },
      "outputs": [],
      "source": [
        "def extract_company(text):\n",
        "  doc = nlp(text) \n",
        "  name = None\n",
        "  for ent in doc.entities:\n",
        "    if ent.type == \"ORG\":\n",
        "      name = ent.text\n",
        "\n",
        "  return name"
      ]
    },
    {
      "cell_type": "markdown",
      "metadata": {
        "id": "NbAPkBEIulvo"
      },
      "source": [
        "### Extract Email Signature"
      ]
    },
    {
      "cell_type": "code",
      "execution_count": 11,
      "metadata": {
        "id": "YYgGnw50qSkk"
      },
      "outputs": [],
      "source": [
        "def extract_email_signature(email_text):\n",
        "\n",
        "  STOPLEN = 3\n",
        "  signature_start = STOPLEN\n",
        "  email_signature = []\n",
        "\n",
        "  name = []\n",
        "  address = []\n",
        "  phone = []\n",
        "  position = []\n",
        "  company = []\n",
        "  website = []\n",
        "  email = []\n",
        "\n",
        "  email_lines = email_text.rstrip('\\n').split('\\n')\n",
        "\n",
        "  for index in range(len(email_lines)-1, -1, -1):\n",
        "      email_line = email_lines[index]\n",
        "\n",
        "      if signature_start > 0 :\n",
        "        st_name = extract_person(email_line)\n",
        "        if st_name:\n",
        "          name.append(st_name)\n",
        "        st_address = extract_address(email_line)\n",
        "        if st_address:\n",
        "          address.append(st_address)\n",
        "        st_phone = extract_phone_no(email_line)\n",
        "        if st_phone:\n",
        "          phone += st_phone\n",
        "        st_position = extract_job_title(email_line)\n",
        "        if st_position:\n",
        "          position += st_position\n",
        "        st_company = extract_company(email_line)\n",
        "        if st_company:\n",
        "          company.append(st_company)\n",
        "        st_website = extract_website(email_line)\n",
        "        if st_website:\n",
        "          website += st_website\n",
        "        st_email = extract_email(email_line)\n",
        "        if st_email:\n",
        "          email += st_email\n",
        "\n",
        "        if (st_name or st_address or st_phone or st_company or st_website or st_email):\n",
        "          signature_start = STOPLEN\n",
        "        else:\n",
        "          signature_start -= 1\n",
        "\n",
        "        email_signature.append(email_line)\n",
        "\n",
        "        if signature_start == 0:\n",
        "          if len(email_signature) > 6:\n",
        "            email_signature = email_signature[:-3]\n",
        "          email_signature = email_signature[::-1]\n",
        "\n",
        "      else:\n",
        "        break\n",
        "\n",
        "  contains_signature = False\n",
        "\n",
        "  if (len(name) or len(address) or len(phone) or len(company) or len(website) or len(email)):\n",
        "    contains_signature = True\n",
        "\n",
        "  if contains_signature == False:\n",
        "    email_signature = []\n",
        "\n",
        "  item = 0\n",
        "  if len(name) > 0:\n",
        "    item += 1\n",
        "  if len(address) > 0:\n",
        "    item += 1\n",
        "  if len(phone) > 0:\n",
        "    item += 1\n",
        "  if len(position) > 0:\n",
        "    item += 1\n",
        "  if len(company) > 0:\n",
        "    item += 1\n",
        "  if len(website) > 0:\n",
        "    item += 1\n",
        "  if len(email) > 0:\n",
        "    item += 1\n",
        "\n",
        "  print('Email includes signature:', 'Yes' if contains_signature else 'NO')\n",
        "  print('-'*90)\n",
        "  print('Email signature:\\n', '\\n'.join(email_signature))\n",
        "  print('-'*90)\n",
        "  print('Email signature completeness:',  str((item/7)*100) + '%')\n"
      ]
    },
    {
      "cell_type": "markdown",
      "metadata": {
        "id": "ShumB6O3ttNj"
      },
      "source": [
        "## Testing the function with different inputs"
      ]
    },
    {
      "cell_type": "code",
      "execution_count": 12,
      "metadata": {
        "colab": {
          "base_uri": "https://localhost:8080/"
        },
        "id": "FdGc-VFbqk20",
        "outputId": "7987d4bd-d616-4fa8-9fa3-391f5552a683"
      },
      "outputs": [
        {
          "name": "stdout",
          "output_type": "stream",
          "text": [
            "Email includes signature: Yes\n",
            "------------------------------------------------------------------------------------------\n",
            "Email signature:\n",
            " George Knight\n",
            "Sales Manager at Owner Knights Bar\n",
            "\n",
            "818-996-8912//818-834-3896\n",
            "http://www.knightsbar.com\n",
            "www.knightsbar.com\n",
            "38 Sharon Lane South Bend, IN 46625\n",
            "------------------------------------------------------------------------------------------\n",
            "Email signature completeness: 85.71428571428571%\n"
          ]
        }
      ],
      "source": [
        "email = \"\"\"\n",
        "Hi,\n",
        "\n",
        "This is test email.\n",
        "\n",
        "Regards,\n",
        "George Knight\n",
        "Sales Manager at Owner Knights Bar\n",
        "\n",
        "818-996-8912//818-834-3896\n",
        "http://www.knightsbar.com\n",
        "www.knightsbar.com\n",
        "38 Sharon Lane South Bend, IN 46625\n",
        "\n",
        "\"\"\"\n",
        "\n",
        "extract_email_signature(email)"
      ]
    },
    {
      "cell_type": "code",
      "execution_count": 13,
      "metadata": {
        "colab": {
          "base_uri": "https://localhost:8080/"
        },
        "id": "01GpZ_cLqkXw",
        "outputId": "6ff2e0a4-b64a-4709-fe3d-c476a648ce26"
      },
      "outputs": [
        {
          "name": "stdout",
          "output_type": "stream",
          "text": [
            "Email includes signature: Yes\n",
            "------------------------------------------------------------------------------------------\n",
            "Email signature:\n",
            " Kevin McLievie\n",
            "Plant & Soil Scientist\n",
            "University of Connecticut\n",
            "--------------------------\n",
            "www.kevinmclievie.com\n",
            "Storrs, CT\n",
            "------------------------------------------------------------------------------------------\n",
            "Email signature completeness: 71.42857142857143%\n"
          ]
        }
      ],
      "source": [
        "email = \"\"\"\n",
        "Hi,\n",
        "\n",
        "This is test email.\n",
        "\n",
        "Kevin McLievie\n",
        "Plant & Soil Scientist\n",
        "University of Connecticut\n",
        "--------------------------\n",
        "www.kevinmclievie.com\n",
        "Storrs, CT\n",
        "\n",
        "\"\"\"\n",
        "\n",
        "extract_email_signature(email)"
      ]
    },
    {
      "cell_type": "code",
      "execution_count": 14,
      "metadata": {
        "colab": {
          "base_uri": "https://localhost:8080/"
        },
        "id": "S5Jc4SDYrNyr",
        "outputId": "505d3273-cebe-48c5-98c8-3c48c9225172"
      },
      "outputs": [
        {
          "name": "stdout",
          "output_type": "stream",
          "text": [
            "Email includes signature: NO\n",
            "------------------------------------------------------------------------------------------\n",
            "Email signature:\n",
            " \n",
            "------------------------------------------------------------------------------------------\n",
            "Email signature completeness: 0.0%\n"
          ]
        }
      ],
      "source": [
        "email = \"\"\"\n",
        "Hi,\n",
        "\n",
        "This is test email without any signature.\n",
        "\n",
        "Thank you\n",
        "\n",
        "\"\"\"\n",
        "\n",
        "extract_email_signature(email)"
      ]
    },
    {
      "cell_type": "code",
      "execution_count": null,
      "metadata": {
        "id": "-Yn-BT2UrUcL"
      },
      "outputs": [],
      "source": []
    }
  ],
  "metadata": {
    "colab": {
      "collapsed_sections": [],
      "name": "exact_email_signature_using_nlp.ipynb",
      "provenance": []
    },
    "kernelspec": {
      "display_name": "Python 3",
      "name": "python3"
    },
    "language_info": {
      "codemirror_mode": {
        "name": "ipython",
        "version": 3
      },
      "file_extension": ".py",
      "mimetype": "text/x-python",
      "name": "python",
      "nbconvert_exporter": "python",
      "pygments_lexer": "ipython3",
      "version": "3.8.12"
    },
    "widgets": {
      "application/vnd.jupyter.widget-state+json": {
        "053fd82739054db2a7bd5c1be5df6042": {
          "model_module": "@jupyter-widgets/controls",
          "model_module_version": "1.5.0",
          "model_name": "DescriptionStyleModel",
          "state": {
            "_model_module": "@jupyter-widgets/controls",
            "_model_module_version": "1.5.0",
            "_model_name": "DescriptionStyleModel",
            "_view_count": null,
            "_view_module": "@jupyter-widgets/base",
            "_view_module_version": "1.2.0",
            "_view_name": "StyleView",
            "description_width": ""
          }
        },
        "0970412bef30434d9fd9f8e64900064a": {
          "model_module": "@jupyter-widgets/base",
          "model_module_version": "1.2.0",
          "model_name": "LayoutModel",
          "state": {
            "_model_module": "@jupyter-widgets/base",
            "_model_module_version": "1.2.0",
            "_model_name": "LayoutModel",
            "_view_count": null,
            "_view_module": "@jupyter-widgets/base",
            "_view_module_version": "1.2.0",
            "_view_name": "LayoutView",
            "align_content": null,
            "align_items": null,
            "align_self": null,
            "border": null,
            "bottom": null,
            "display": null,
            "flex": null,
            "flex_flow": null,
            "grid_area": null,
            "grid_auto_columns": null,
            "grid_auto_flow": null,
            "grid_auto_rows": null,
            "grid_column": null,
            "grid_gap": null,
            "grid_row": null,
            "grid_template_areas": null,
            "grid_template_columns": null,
            "grid_template_rows": null,
            "height": null,
            "justify_content": null,
            "justify_items": null,
            "left": null,
            "margin": null,
            "max_height": null,
            "max_width": null,
            "min_height": null,
            "min_width": null,
            "object_fit": null,
            "object_position": null,
            "order": null,
            "overflow": null,
            "overflow_x": null,
            "overflow_y": null,
            "padding": null,
            "right": null,
            "top": null,
            "visibility": null,
            "width": null
          }
        },
        "125e89558766457c90a72ffe1f530005": {
          "model_module": "@jupyter-widgets/base",
          "model_module_version": "1.2.0",
          "model_name": "LayoutModel",
          "state": {
            "_model_module": "@jupyter-widgets/base",
            "_model_module_version": "1.2.0",
            "_model_name": "LayoutModel",
            "_view_count": null,
            "_view_module": "@jupyter-widgets/base",
            "_view_module_version": "1.2.0",
            "_view_name": "LayoutView",
            "align_content": null,
            "align_items": null,
            "align_self": null,
            "border": null,
            "bottom": null,
            "display": null,
            "flex": null,
            "flex_flow": null,
            "grid_area": null,
            "grid_auto_columns": null,
            "grid_auto_flow": null,
            "grid_auto_rows": null,
            "grid_column": null,
            "grid_gap": null,
            "grid_row": null,
            "grid_template_areas": null,
            "grid_template_columns": null,
            "grid_template_rows": null,
            "height": null,
            "justify_content": null,
            "justify_items": null,
            "left": null,
            "margin": null,
            "max_height": null,
            "max_width": null,
            "min_height": null,
            "min_width": null,
            "object_fit": null,
            "object_position": null,
            "order": null,
            "overflow": null,
            "overflow_x": null,
            "overflow_y": null,
            "padding": null,
            "right": null,
            "top": null,
            "visibility": null,
            "width": null
          }
        },
        "1298e858dc4f4a28b051db27b3cb6593": {
          "model_module": "@jupyter-widgets/controls",
          "model_module_version": "1.5.0",
          "model_name": "DescriptionStyleModel",
          "state": {
            "_model_module": "@jupyter-widgets/controls",
            "_model_module_version": "1.5.0",
            "_model_name": "DescriptionStyleModel",
            "_view_count": null,
            "_view_module": "@jupyter-widgets/base",
            "_view_module_version": "1.2.0",
            "_view_name": "StyleView",
            "description_width": ""
          }
        },
        "150824421d8645c3bc8fb05fd943cd61": {
          "model_module": "@jupyter-widgets/base",
          "model_module_version": "1.2.0",
          "model_name": "LayoutModel",
          "state": {
            "_model_module": "@jupyter-widgets/base",
            "_model_module_version": "1.2.0",
            "_model_name": "LayoutModel",
            "_view_count": null,
            "_view_module": "@jupyter-widgets/base",
            "_view_module_version": "1.2.0",
            "_view_name": "LayoutView",
            "align_content": null,
            "align_items": null,
            "align_self": null,
            "border": null,
            "bottom": null,
            "display": null,
            "flex": null,
            "flex_flow": null,
            "grid_area": null,
            "grid_auto_columns": null,
            "grid_auto_flow": null,
            "grid_auto_rows": null,
            "grid_column": null,
            "grid_gap": null,
            "grid_row": null,
            "grid_template_areas": null,
            "grid_template_columns": null,
            "grid_template_rows": null,
            "height": null,
            "justify_content": null,
            "justify_items": null,
            "left": null,
            "margin": null,
            "max_height": null,
            "max_width": null,
            "min_height": null,
            "min_width": null,
            "object_fit": null,
            "object_position": null,
            "order": null,
            "overflow": null,
            "overflow_x": null,
            "overflow_y": null,
            "padding": null,
            "right": null,
            "top": null,
            "visibility": null,
            "width": null
          }
        },
        "1a39801610b142f59874d7f3803709df": {
          "model_module": "@jupyter-widgets/controls",
          "model_module_version": "1.5.0",
          "model_name": "DescriptionStyleModel",
          "state": {
            "_model_module": "@jupyter-widgets/controls",
            "_model_module_version": "1.5.0",
            "_model_name": "DescriptionStyleModel",
            "_view_count": null,
            "_view_module": "@jupyter-widgets/base",
            "_view_module_version": "1.2.0",
            "_view_name": "StyleView",
            "description_width": ""
          }
        },
        "1f4d8e3e92ae48069b68a7966e104164": {
          "model_module": "@jupyter-widgets/base",
          "model_module_version": "1.2.0",
          "model_name": "LayoutModel",
          "state": {
            "_model_module": "@jupyter-widgets/base",
            "_model_module_version": "1.2.0",
            "_model_name": "LayoutModel",
            "_view_count": null,
            "_view_module": "@jupyter-widgets/base",
            "_view_module_version": "1.2.0",
            "_view_name": "LayoutView",
            "align_content": null,
            "align_items": null,
            "align_self": null,
            "border": null,
            "bottom": null,
            "display": null,
            "flex": null,
            "flex_flow": null,
            "grid_area": null,
            "grid_auto_columns": null,
            "grid_auto_flow": null,
            "grid_auto_rows": null,
            "grid_column": null,
            "grid_gap": null,
            "grid_row": null,
            "grid_template_areas": null,
            "grid_template_columns": null,
            "grid_template_rows": null,
            "height": null,
            "justify_content": null,
            "justify_items": null,
            "left": null,
            "margin": null,
            "max_height": null,
            "max_width": null,
            "min_height": null,
            "min_width": null,
            "object_fit": null,
            "object_position": null,
            "order": null,
            "overflow": null,
            "overflow_x": null,
            "overflow_y": null,
            "padding": null,
            "right": null,
            "top": null,
            "visibility": null,
            "width": null
          }
        },
        "26ea118c408f48fe9dcb546c7505049a": {
          "model_module": "@jupyter-widgets/controls",
          "model_module_version": "1.5.0",
          "model_name": "DescriptionStyleModel",
          "state": {
            "_model_module": "@jupyter-widgets/controls",
            "_model_module_version": "1.5.0",
            "_model_name": "DescriptionStyleModel",
            "_view_count": null,
            "_view_module": "@jupyter-widgets/base",
            "_view_module_version": "1.2.0",
            "_view_name": "StyleView",
            "description_width": ""
          }
        },
        "2919189db0da445f973067dd9225de9b": {
          "model_module": "@jupyter-widgets/controls",
          "model_module_version": "1.5.0",
          "model_name": "HTMLModel",
          "state": {
            "_dom_classes": [],
            "_model_module": "@jupyter-widgets/controls",
            "_model_module_version": "1.5.0",
            "_model_name": "HTMLModel",
            "_view_count": null,
            "_view_module": "@jupyter-widgets/controls",
            "_view_module_version": "1.5.0",
            "_view_name": "HTMLView",
            "description": "",
            "description_tooltip": null,
            "layout": "IPY_MODEL_125e89558766457c90a72ffe1f530005",
            "placeholder": "​",
            "style": "IPY_MODEL_1a39801610b142f59874d7f3803709df",
            "value": "Downloading https://raw.githubusercontent.com/stanfordnlp/stanza-resources/main/resources_1.3.0.json: "
          }
        },
        "35edaaeb62cd4a289a5c68b7d7bb43b5": {
          "model_module": "@jupyter-widgets/controls",
          "model_module_version": "1.5.0",
          "model_name": "HBoxModel",
          "state": {
            "_dom_classes": [],
            "_model_module": "@jupyter-widgets/controls",
            "_model_module_version": "1.5.0",
            "_model_name": "HBoxModel",
            "_view_count": null,
            "_view_module": "@jupyter-widgets/controls",
            "_view_module_version": "1.5.0",
            "_view_name": "HBoxView",
            "box_style": "",
            "children": [
              "IPY_MODEL_2919189db0da445f973067dd9225de9b",
              "IPY_MODEL_6553187a221643079052967cdaa2b3d1",
              "IPY_MODEL_ea5ff80623714946b43b0ef9254b1c93"
            ],
            "layout": "IPY_MODEL_0970412bef30434d9fd9f8e64900064a"
          }
        },
        "436c5c00d7094496949616ab17932336": {
          "model_module": "@jupyter-widgets/controls",
          "model_module_version": "1.5.0",
          "model_name": "HTMLModel",
          "state": {
            "_dom_classes": [],
            "_model_module": "@jupyter-widgets/controls",
            "_model_module_version": "1.5.0",
            "_model_name": "HTMLModel",
            "_view_count": null,
            "_view_module": "@jupyter-widgets/controls",
            "_view_module_version": "1.5.0",
            "_view_name": "HTMLView",
            "description": "",
            "description_tooltip": null,
            "layout": "IPY_MODEL_b025f76532a343db965088b06e6d6bc9",
            "placeholder": "​",
            "style": "IPY_MODEL_053fd82739054db2a7bd5c1be5df6042",
            "value": " 480M/480M [00:05&lt;00:00, 87.4MB/s]"
          }
        },
        "4c2b9634181a4b06baf2d48303fac0bb": {
          "model_module": "@jupyter-widgets/base",
          "model_module_version": "1.2.0",
          "model_name": "LayoutModel",
          "state": {
            "_model_module": "@jupyter-widgets/base",
            "_model_module_version": "1.2.0",
            "_model_name": "LayoutModel",
            "_view_count": null,
            "_view_module": "@jupyter-widgets/base",
            "_view_module_version": "1.2.0",
            "_view_name": "LayoutView",
            "align_content": null,
            "align_items": null,
            "align_self": null,
            "border": null,
            "bottom": null,
            "display": null,
            "flex": null,
            "flex_flow": null,
            "grid_area": null,
            "grid_auto_columns": null,
            "grid_auto_flow": null,
            "grid_auto_rows": null,
            "grid_column": null,
            "grid_gap": null,
            "grid_row": null,
            "grid_template_areas": null,
            "grid_template_columns": null,
            "grid_template_rows": null,
            "height": null,
            "justify_content": null,
            "justify_items": null,
            "left": null,
            "margin": null,
            "max_height": null,
            "max_width": null,
            "min_height": null,
            "min_width": null,
            "object_fit": null,
            "object_position": null,
            "order": null,
            "overflow": null,
            "overflow_x": null,
            "overflow_y": null,
            "padding": null,
            "right": null,
            "top": null,
            "visibility": null,
            "width": null
          }
        },
        "6553187a221643079052967cdaa2b3d1": {
          "model_module": "@jupyter-widgets/controls",
          "model_module_version": "1.5.0",
          "model_name": "FloatProgressModel",
          "state": {
            "_dom_classes": [],
            "_model_module": "@jupyter-widgets/controls",
            "_model_module_version": "1.5.0",
            "_model_name": "FloatProgressModel",
            "_view_count": null,
            "_view_module": "@jupyter-widgets/controls",
            "_view_module_version": "1.5.0",
            "_view_name": "ProgressView",
            "bar_style": "success",
            "description": "",
            "description_tooltip": null,
            "layout": "IPY_MODEL_7eaa9d31ce2e455c93a9c284af54f19e",
            "max": 24459,
            "min": 0,
            "orientation": "horizontal",
            "style": "IPY_MODEL_934339865c2b4f3c85b1a3c5263f4ac3",
            "value": 24459
          }
        },
        "751222b61c44436abe82e9f0f699f4f6": {
          "model_module": "@jupyter-widgets/controls",
          "model_module_version": "1.5.0",
          "model_name": "HTMLModel",
          "state": {
            "_dom_classes": [],
            "_model_module": "@jupyter-widgets/controls",
            "_model_module_version": "1.5.0",
            "_model_name": "HTMLModel",
            "_view_count": null,
            "_view_module": "@jupyter-widgets/controls",
            "_view_module_version": "1.5.0",
            "_view_name": "HTMLView",
            "description": "",
            "description_tooltip": null,
            "layout": "IPY_MODEL_eebed07d32254844ab4f996d6b5e38e2",
            "placeholder": "​",
            "style": "IPY_MODEL_1298e858dc4f4a28b051db27b3cb6593",
            "value": "Downloading https://huggingface.co/stanfordnlp/stanza-en/resolve/v1.3.0/models/default.zip: 100%"
          }
        },
        "7eaa9d31ce2e455c93a9c284af54f19e": {
          "model_module": "@jupyter-widgets/base",
          "model_module_version": "1.2.0",
          "model_name": "LayoutModel",
          "state": {
            "_model_module": "@jupyter-widgets/base",
            "_model_module_version": "1.2.0",
            "_model_name": "LayoutModel",
            "_view_count": null,
            "_view_module": "@jupyter-widgets/base",
            "_view_module_version": "1.2.0",
            "_view_name": "LayoutView",
            "align_content": null,
            "align_items": null,
            "align_self": null,
            "border": null,
            "bottom": null,
            "display": null,
            "flex": null,
            "flex_flow": null,
            "grid_area": null,
            "grid_auto_columns": null,
            "grid_auto_flow": null,
            "grid_auto_rows": null,
            "grid_column": null,
            "grid_gap": null,
            "grid_row": null,
            "grid_template_areas": null,
            "grid_template_columns": null,
            "grid_template_rows": null,
            "height": null,
            "justify_content": null,
            "justify_items": null,
            "left": null,
            "margin": null,
            "max_height": null,
            "max_width": null,
            "min_height": null,
            "min_width": null,
            "object_fit": null,
            "object_position": null,
            "order": null,
            "overflow": null,
            "overflow_x": null,
            "overflow_y": null,
            "padding": null,
            "right": null,
            "top": null,
            "visibility": null,
            "width": null
          }
        },
        "8ca8dc4d339a42c8842347a0bec14392": {
          "model_module": "@jupyter-widgets/controls",
          "model_module_version": "1.5.0",
          "model_name": "ProgressStyleModel",
          "state": {
            "_model_module": "@jupyter-widgets/controls",
            "_model_module_version": "1.5.0",
            "_model_name": "ProgressStyleModel",
            "_view_count": null,
            "_view_module": "@jupyter-widgets/base",
            "_view_module_version": "1.2.0",
            "_view_name": "StyleView",
            "bar_color": null,
            "description_width": ""
          }
        },
        "9189c5d65b874925a2c2f0d4422c2b12": {
          "model_module": "@jupyter-widgets/controls",
          "model_module_version": "1.5.0",
          "model_name": "HBoxModel",
          "state": {
            "_dom_classes": [],
            "_model_module": "@jupyter-widgets/controls",
            "_model_module_version": "1.5.0",
            "_model_name": "HBoxModel",
            "_view_count": null,
            "_view_module": "@jupyter-widgets/controls",
            "_view_module_version": "1.5.0",
            "_view_name": "HBoxView",
            "box_style": "",
            "children": [
              "IPY_MODEL_751222b61c44436abe82e9f0f699f4f6",
              "IPY_MODEL_ddd11544f173487abcda1e0ca338ad2d",
              "IPY_MODEL_436c5c00d7094496949616ab17932336"
            ],
            "layout": "IPY_MODEL_150824421d8645c3bc8fb05fd943cd61"
          }
        },
        "934339865c2b4f3c85b1a3c5263f4ac3": {
          "model_module": "@jupyter-widgets/controls",
          "model_module_version": "1.5.0",
          "model_name": "ProgressStyleModel",
          "state": {
            "_model_module": "@jupyter-widgets/controls",
            "_model_module_version": "1.5.0",
            "_model_name": "ProgressStyleModel",
            "_view_count": null,
            "_view_module": "@jupyter-widgets/base",
            "_view_module_version": "1.2.0",
            "_view_name": "StyleView",
            "bar_color": null,
            "description_width": ""
          }
        },
        "b025f76532a343db965088b06e6d6bc9": {
          "model_module": "@jupyter-widgets/base",
          "model_module_version": "1.2.0",
          "model_name": "LayoutModel",
          "state": {
            "_model_module": "@jupyter-widgets/base",
            "_model_module_version": "1.2.0",
            "_model_name": "LayoutModel",
            "_view_count": null,
            "_view_module": "@jupyter-widgets/base",
            "_view_module_version": "1.2.0",
            "_view_name": "LayoutView",
            "align_content": null,
            "align_items": null,
            "align_self": null,
            "border": null,
            "bottom": null,
            "display": null,
            "flex": null,
            "flex_flow": null,
            "grid_area": null,
            "grid_auto_columns": null,
            "grid_auto_flow": null,
            "grid_auto_rows": null,
            "grid_column": null,
            "grid_gap": null,
            "grid_row": null,
            "grid_template_areas": null,
            "grid_template_columns": null,
            "grid_template_rows": null,
            "height": null,
            "justify_content": null,
            "justify_items": null,
            "left": null,
            "margin": null,
            "max_height": null,
            "max_width": null,
            "min_height": null,
            "min_width": null,
            "object_fit": null,
            "object_position": null,
            "order": null,
            "overflow": null,
            "overflow_x": null,
            "overflow_y": null,
            "padding": null,
            "right": null,
            "top": null,
            "visibility": null,
            "width": null
          }
        },
        "ddd11544f173487abcda1e0ca338ad2d": {
          "model_module": "@jupyter-widgets/controls",
          "model_module_version": "1.5.0",
          "model_name": "FloatProgressModel",
          "state": {
            "_dom_classes": [],
            "_model_module": "@jupyter-widgets/controls",
            "_model_module_version": "1.5.0",
            "_model_name": "FloatProgressModel",
            "_view_count": null,
            "_view_module": "@jupyter-widgets/controls",
            "_view_module_version": "1.5.0",
            "_view_name": "ProgressView",
            "bar_style": "success",
            "description": "",
            "description_tooltip": null,
            "layout": "IPY_MODEL_4c2b9634181a4b06baf2d48303fac0bb",
            "max": 479531529,
            "min": 0,
            "orientation": "horizontal",
            "style": "IPY_MODEL_8ca8dc4d339a42c8842347a0bec14392",
            "value": 479531529
          }
        },
        "ea5ff80623714946b43b0ef9254b1c93": {
          "model_module": "@jupyter-widgets/controls",
          "model_module_version": "1.5.0",
          "model_name": "HTMLModel",
          "state": {
            "_dom_classes": [],
            "_model_module": "@jupyter-widgets/controls",
            "_model_module_version": "1.5.0",
            "_model_name": "HTMLModel",
            "_view_count": null,
            "_view_module": "@jupyter-widgets/controls",
            "_view_module_version": "1.5.0",
            "_view_name": "HTMLView",
            "description": "",
            "description_tooltip": null,
            "layout": "IPY_MODEL_1f4d8e3e92ae48069b68a7966e104164",
            "placeholder": "​",
            "style": "IPY_MODEL_26ea118c408f48fe9dcb546c7505049a",
            "value": " 142k/? [00:00&lt;00:00, 3.11MB/s]"
          }
        },
        "eebed07d32254844ab4f996d6b5e38e2": {
          "model_module": "@jupyter-widgets/base",
          "model_module_version": "1.2.0",
          "model_name": "LayoutModel",
          "state": {
            "_model_module": "@jupyter-widgets/base",
            "_model_module_version": "1.2.0",
            "_model_name": "LayoutModel",
            "_view_count": null,
            "_view_module": "@jupyter-widgets/base",
            "_view_module_version": "1.2.0",
            "_view_name": "LayoutView",
            "align_content": null,
            "align_items": null,
            "align_self": null,
            "border": null,
            "bottom": null,
            "display": null,
            "flex": null,
            "flex_flow": null,
            "grid_area": null,
            "grid_auto_columns": null,
            "grid_auto_flow": null,
            "grid_auto_rows": null,
            "grid_column": null,
            "grid_gap": null,
            "grid_row": null,
            "grid_template_areas": null,
            "grid_template_columns": null,
            "grid_template_rows": null,
            "height": null,
            "justify_content": null,
            "justify_items": null,
            "left": null,
            "margin": null,
            "max_height": null,
            "max_width": null,
            "min_height": null,
            "min_width": null,
            "object_fit": null,
            "object_position": null,
            "order": null,
            "overflow": null,
            "overflow_x": null,
            "overflow_y": null,
            "padding": null,
            "right": null,
            "top": null,
            "visibility": null,
            "width": null
          }
        }
      }
    }
  },
  "nbformat": 4,
  "nbformat_minor": 0
}
